{
  "nbformat": 4,
  "nbformat_minor": 0,
  "metadata": {
    "colab": {
      "provenance": [],
      "authorship_tag": "ABX9TyNMD+2+0fQgcAUcbZIBjOlC",
      "include_colab_link": true
    },
    "kernelspec": {
      "name": "python3",
      "display_name": "Python 3"
    },
    "language_info": {
      "name": "python"
    }
  },
  "cells": [
    {
      "cell_type": "markdown",
      "metadata": {
        "id": "view-in-github",
        "colab_type": "text"
      },
      "source": [
        "<a href=\"https://colab.research.google.com/github/yarkalm/machinelearning/blob/main/ML6.ipynb\" target=\"_parent\"><img src=\"https://colab.research.google.com/assets/colab-badge.svg\" alt=\"Open In Colab\"/></a>"
      ]
    },
    {
      "cell_type": "markdown",
      "source": [
        "# Калмыков Я.А. КЭ-319 ЮУрГУ\n",
        "# Лабораторная работа по машинному обучению.\n",
        "# Задание 6\n",
        "# Оценка и улучшение качества модели"
      ],
      "metadata": {
        "id": "R4dvL05HDaPU"
      }
    },
    {
      "cell_type": "markdown",
      "source": [
        "# Кросс-валидация"
      ],
      "metadata": {
        "id": "54dsSSZO3Wx7"
      }
    },
    {
      "cell_type": "code",
      "source": [
        "!pip install mglearn"
      ],
      "metadata": {
        "id": "aYxwv0KEWHng",
        "outputId": "63c0ee8f-9bc0-445e-e044-91dad44fc880",
        "colab": {
          "base_uri": "https://localhost:8080/"
        }
      },
      "execution_count": null,
      "outputs": [
        {
          "output_type": "stream",
          "name": "stdout",
          "text": [
            "Collecting mglearn\n",
            "  Downloading mglearn-0.1.9.tar.gz (540 kB)\n",
            "\u001b[?25l\r\u001b[K     |▋                               | 10 kB 19.3 MB/s eta 0:00:01\r\u001b[K     |█▏                              | 20 kB 21.7 MB/s eta 0:00:01\r\u001b[K     |█▉                              | 30 kB 26.1 MB/s eta 0:00:01\r\u001b[K     |██▍                             | 40 kB 15.9 MB/s eta 0:00:01\r\u001b[K     |███                             | 51 kB 6.5 MB/s eta 0:00:01\r\u001b[K     |███▋                            | 61 kB 7.4 MB/s eta 0:00:01\r\u001b[K     |████▎                           | 71 kB 8.1 MB/s eta 0:00:01\r\u001b[K     |████▉                           | 81 kB 7.2 MB/s eta 0:00:01\r\u001b[K     |█████▌                          | 92 kB 7.9 MB/s eta 0:00:01\r\u001b[K     |██████                          | 102 kB 8.7 MB/s eta 0:00:01\r\u001b[K     |██████▊                         | 112 kB 8.7 MB/s eta 0:00:01\r\u001b[K     |███████▎                        | 122 kB 8.7 MB/s eta 0:00:01\r\u001b[K     |███████▉                        | 133 kB 8.7 MB/s eta 0:00:01\r\u001b[K     |████████▌                       | 143 kB 8.7 MB/s eta 0:00:01\r\u001b[K     |█████████                       | 153 kB 8.7 MB/s eta 0:00:01\r\u001b[K     |█████████▊                      | 163 kB 8.7 MB/s eta 0:00:01\r\u001b[K     |██████████▎                     | 174 kB 8.7 MB/s eta 0:00:01\r\u001b[K     |███████████                     | 184 kB 8.7 MB/s eta 0:00:01\r\u001b[K     |███████████▌                    | 194 kB 8.7 MB/s eta 0:00:01\r\u001b[K     |████████████▏                   | 204 kB 8.7 MB/s eta 0:00:01\r\u001b[K     |████████████▊                   | 215 kB 8.7 MB/s eta 0:00:01\r\u001b[K     |█████████████▍                  | 225 kB 8.7 MB/s eta 0:00:01\r\u001b[K     |██████████████                  | 235 kB 8.7 MB/s eta 0:00:01\r\u001b[K     |██████████████▋                 | 245 kB 8.7 MB/s eta 0:00:01\r\u001b[K     |███████████████▏                | 256 kB 8.7 MB/s eta 0:00:01\r\u001b[K     |███████████████▊                | 266 kB 8.7 MB/s eta 0:00:01\r\u001b[K     |████████████████▍               | 276 kB 8.7 MB/s eta 0:00:01\r\u001b[K     |█████████████████               | 286 kB 8.7 MB/s eta 0:00:01\r\u001b[K     |█████████████████▋              | 296 kB 8.7 MB/s eta 0:00:01\r\u001b[K     |██████████████████▏             | 307 kB 8.7 MB/s eta 0:00:01\r\u001b[K     |██████████████████▉             | 317 kB 8.7 MB/s eta 0:00:01\r\u001b[K     |███████████████████▍            | 327 kB 8.7 MB/s eta 0:00:01\r\u001b[K     |████████████████████            | 337 kB 8.7 MB/s eta 0:00:01\r\u001b[K     |████████████████████▋           | 348 kB 8.7 MB/s eta 0:00:01\r\u001b[K     |█████████████████████▎          | 358 kB 8.7 MB/s eta 0:00:01\r\u001b[K     |█████████████████████▉          | 368 kB 8.7 MB/s eta 0:00:01\r\u001b[K     |██████████████████████▌         | 378 kB 8.7 MB/s eta 0:00:01\r\u001b[K     |███████████████████████         | 389 kB 8.7 MB/s eta 0:00:01\r\u001b[K     |███████████████████████▋        | 399 kB 8.7 MB/s eta 0:00:01\r\u001b[K     |████████████████████████▎       | 409 kB 8.7 MB/s eta 0:00:01\r\u001b[K     |████████████████████████▉       | 419 kB 8.7 MB/s eta 0:00:01\r\u001b[K     |█████████████████████████▌      | 430 kB 8.7 MB/s eta 0:00:01\r\u001b[K     |██████████████████████████      | 440 kB 8.7 MB/s eta 0:00:01\r\u001b[K     |██████████████████████████▊     | 450 kB 8.7 MB/s eta 0:00:01\r\u001b[K     |███████████████████████████▎    | 460 kB 8.7 MB/s eta 0:00:01\r\u001b[K     |████████████████████████████    | 471 kB 8.7 MB/s eta 0:00:01\r\u001b[K     |████████████████████████████▌   | 481 kB 8.7 MB/s eta 0:00:01\r\u001b[K     |█████████████████████████████▏  | 491 kB 8.7 MB/s eta 0:00:01\r\u001b[K     |█████████████████████████████▊  | 501 kB 8.7 MB/s eta 0:00:01\r\u001b[K     |██████████████████████████████▍ | 512 kB 8.7 MB/s eta 0:00:01\r\u001b[K     |███████████████████████████████ | 522 kB 8.7 MB/s eta 0:00:01\r\u001b[K     |███████████████████████████████▌| 532 kB 8.7 MB/s eta 0:00:01\r\u001b[K     |████████████████████████████████| 540 kB 8.7 MB/s \n",
            "\u001b[?25hRequirement already satisfied: numpy in /usr/local/lib/python3.7/dist-packages (from mglearn) (1.21.5)\n",
            "Requirement already satisfied: matplotlib in /usr/local/lib/python3.7/dist-packages (from mglearn) (3.2.2)\n",
            "Requirement already satisfied: scikit-learn in /usr/local/lib/python3.7/dist-packages (from mglearn) (1.0.2)\n",
            "Requirement already satisfied: pandas in /usr/local/lib/python3.7/dist-packages (from mglearn) (1.3.5)\n",
            "Requirement already satisfied: pillow in /usr/local/lib/python3.7/dist-packages (from mglearn) (7.1.2)\n",
            "Requirement already satisfied: cycler in /usr/local/lib/python3.7/dist-packages (from mglearn) (0.11.0)\n",
            "Requirement already satisfied: imageio in /usr/local/lib/python3.7/dist-packages (from mglearn) (2.4.1)\n",
            "Requirement already satisfied: joblib in /usr/local/lib/python3.7/dist-packages (from mglearn) (1.1.0)\n",
            "Requirement already satisfied: python-dateutil>=2.1 in /usr/local/lib/python3.7/dist-packages (from matplotlib->mglearn) (2.8.2)\n",
            "Requirement already satisfied: kiwisolver>=1.0.1 in /usr/local/lib/python3.7/dist-packages (from matplotlib->mglearn) (1.4.0)\n",
            "Requirement already satisfied: pyparsing!=2.0.4,!=2.1.2,!=2.1.6,>=2.0.1 in /usr/local/lib/python3.7/dist-packages (from matplotlib->mglearn) (3.0.7)\n",
            "Requirement already satisfied: typing-extensions in /usr/local/lib/python3.7/dist-packages (from kiwisolver>=1.0.1->matplotlib->mglearn) (3.10.0.2)\n",
            "Requirement already satisfied: six>=1.5 in /usr/local/lib/python3.7/dist-packages (from python-dateutil>=2.1->matplotlib->mglearn) (1.15.0)\n",
            "Requirement already satisfied: pytz>=2017.3 in /usr/local/lib/python3.7/dist-packages (from pandas->mglearn) (2018.9)\n",
            "Requirement already satisfied: scipy>=1.1.0 in /usr/local/lib/python3.7/dist-packages (from scikit-learn->mglearn) (1.4.1)\n",
            "Requirement already satisfied: threadpoolctl>=2.0.0 in /usr/local/lib/python3.7/dist-packages (from scikit-learn->mglearn) (3.1.0)\n",
            "Building wheels for collected packages: mglearn\n",
            "  Building wheel for mglearn (setup.py) ... \u001b[?25l\u001b[?25hdone\n",
            "  Created wheel for mglearn: filename=mglearn-0.1.9-py2.py3-none-any.whl size=582639 sha256=d2c53ff1ce93abeaaa9619fd6cc62bf3027186bd09c61bcb8cea3029e1410da5\n",
            "  Stored in directory: /root/.cache/pip/wheels/f1/17/e1/1720d6dcd70187b6b6c3750cb3508798f2b1d57c9d3214b08b\n",
            "Successfully built mglearn\n",
            "Installing collected packages: mglearn\n",
            "Successfully installed mglearn-0.1.9\n"
          ]
        }
      ]
    },
    {
      "cell_type": "code",
      "execution_count": null,
      "metadata": {
        "id": "HQvI7BuL1l5S"
      },
      "outputs": [],
      "source": [
        "from sklearn.model_selection import train_test_split\n",
        "from sklearn.datasets import load_breast_cancer\n",
        "from sklearn.linear_model import LogisticRegression\n",
        "from sklearn.preprocessing import StandardScaler\n",
        "from sklearn.model_selection import cross_val_score"
      ]
    },
    {
      "cell_type": "markdown",
      "source": [
        "- Загрузите набор данных по раку молочной железы с помощью функции load_breast_cancer из scikit-learn.\n",
        "- Создайте экземпляр модели LogisticRegression и рассчитайте для него среднюю правильность перекрестной проверки на наборе данных, указав значение параметра cv равным 5.\n"
      ],
      "metadata": {
        "id": "PXfarWDUDp1e"
      }
    },
    {
      "cell_type": "code",
      "source": [
        "# Загрузка датасета\n",
        "cancer = load_breast_cancer()\n",
        "\n",
        "lr = LogisticRegression()\n",
        "scaler = StandardScaler()\n",
        "scaler.fit(cancer.data)\n",
        "X_scaled = scaler.transform(cancer.data)\n",
        "scores = cross_val_score(lr,X_scaled,cancer.target,cv=5)\n",
        "print(\"Правильность перекрёстной проверки\", scores.mean())"
      ],
      "metadata": {
        "id": "9UvVstN32Z5R",
        "colab": {
          "base_uri": "https://localhost:8080/"
        },
        "outputId": "523f8460-db7d-4186-ca64-c59276731679"
      },
      "execution_count": null,
      "outputs": [
        {
          "output_type": "stream",
          "name": "stdout",
          "text": [
            "Правильность перекрёстной проверки 0.9806862288464524\n"
          ]
        }
      ]
    },
    {
      "cell_type": "markdown",
      "source": [
        "# Решётчатый поиск"
      ],
      "metadata": {
        "id": "DBouYsKM_M1G"
      }
    },
    {
      "cell_type": "code",
      "source": [
        "from sklearn.model_selection import train_test_split\n",
        "from sklearn.datasets import load_breast_cancer\n",
        "from sklearn.svm import SVC\n",
        "from sklearn.model_selection import GridSearchCV"
      ],
      "metadata": {
        "id": "Vm2X30hZ_WMp"
      },
      "execution_count": null,
      "outputs": []
    },
    {
      "cell_type": "markdown",
      "source": [
        "- Загрузите набор данных по раку молочной железы с помощью функции load_breast_cancer из scikit-learn. Разбейте его на обучающий и тестовый наборы.\n",
        "- Создайте экземпляр модели SVC и задайте сетку параметров, используя значения gamma равные 0,0001, 0,001, 0,01, 0,1, 1 и значения C равные 0,001, 0,01, 0,1, 1, 10. \n",
        "- Воспользуйтесь GridSearchCV для поиска лучших параметров на обучающем наборе данных, указав значение параметра cv равным 5.\n"
      ],
      "metadata": {
        "id": "eMkGQK9S_jT8"
      }
    },
    {
      "cell_type": "code",
      "source": [
        "cancer = load_breast_cancer()\n",
        "\n",
        "\n",
        "X_train, X_test, y_train, y_test = train_test_split(cancer.data,cancer.target,random_state=1)\n",
        "\n",
        "params = {'C': [0.001,0.01,0.1,1,10],'gamma':[0.0001,0.001,0.01,0.1,1]}\n",
        "\n",
        "gs = GridSearchCV(SVC(), params, cv=5)\n",
        "gs.fit(X_train,y_train)\n",
        "\n",
        "print(\"Правильность на тестовом наборе:{:.2f}\".format(gs.score(X_test,y_test)))"
      ],
      "metadata": {
        "id": "5WMYG-4oxPw0",
        "colab": {
          "base_uri": "https://localhost:8080/"
        },
        "outputId": "efdcbecc-bdeb-4509-dfd2-a6a8305e4760"
      },
      "execution_count": null,
      "outputs": [
        {
          "output_type": "stream",
          "name": "stdout",
          "text": [
            "Правильность на тестовом наборе:0.94\n"
          ]
        }
      ]
    },
    {
      "cell_type": "markdown",
      "source": [
        " Выведите наилучшие значения параметров и кросс-валидационной правильности. Оцените правильность наилучшей модели на тестовом наборе данных."
      ],
      "metadata": {
        "id": "hazVTpeE1wr8"
      }
    },
    {
      "cell_type": "code",
      "source": [
        "print(\"Наилучшие значения параметров: \",gs.best_params_)\n",
        "print(\"Наилучшие значение правильности: \",gs.best_score_)"
      ],
      "metadata": {
        "colab": {
          "base_uri": "https://localhost:8080/"
        },
        "id": "rJ47-tFVvtvY",
        "outputId": "72cef027-7a2a-4688-ee58-55d903b989db"
      },
      "execution_count": null,
      "outputs": [
        {
          "output_type": "stream",
          "name": "stdout",
          "text": [
            "Наилучшие значения параметров:  {'C': 1, 'gamma': 0.0001}\n",
            "Наилучшие значение правильности:  0.9319562243502053\n"
          ]
        }
      ]
    },
    {
      "cell_type": "markdown",
      "source": [
        "# Метрики для бинарной классификации"
      ],
      "metadata": {
        "id": "X33oZWJQ3UGZ"
      }
    },
    {
      "cell_type": "code",
      "source": [
        "from sklearn.model_selection import train_test_split\n",
        "from sklearn.datasets import load_breast_cancer\n",
        "import numpy as np\n",
        "from sklearn.linear_model import LogisticRegression\n",
        "from sklearn.dummy import DummyClassifier\n",
        "from sklearn.metrics import classification_report"
      ],
      "metadata": {
        "id": "NKzeF3JxCW_B"
      },
      "execution_count": null,
      "outputs": []
    },
    {
      "cell_type": "markdown",
      "source": [
        "- Загрузите набор данных по раку молочной железы с помощью функции load_breast_cancer из scikit-learn. Обозначьте примеры с злокачественными опухолями как положительные, а примеры с доброкачественными опухолями – как отрицательные:\n",
        "- Отбросьте часть положительных примеров таким образом, чтобы их количество составляло около 10% от общего количества примеров:"
      ],
      "metadata": {
        "id": "SMXrVO3-Ch89"
      }
    },
    {
      "cell_type": "code",
      "source": [
        "cancer = load_breast_cancer()\n",
        "X = cancer.data\n",
        "Y = cancer.target == 0\n",
        "X_positive = X[Y]\n",
        "Y_positive = Y[Y]\n",
        "X_negative = X[Y == False]\n",
        "Y_negative = Y[Y == False]\n",
        "\n",
        "n_positive = int(len(X_negative) / 9)\n",
        "X_positive = X_positive[0:n_positive]\n",
        "Y_positive = Y_positive[0:n_positive]\n",
        "\n",
        "X = np.append(X_negative, X_positive, axis = 0)\n",
        "Y = np.append(Y_negative, Y_positive, axis = 0)"
      ],
      "metadata": {
        "id": "RjUXZHvOCepL"
      },
      "execution_count": null,
      "outputs": []
    },
    {
      "cell_type": "markdown",
      "source": [
        "- Разбейте полученный набор данных на обучающий и тестовый наборы.\n",
        "- Создайте экземпляр модели DummyClassifier и обучите его на обучающем наборе данных, указав значение параметра strategy равным “most_frequent”. Оцените правильность и полноту полученной модели на обучающем и тестовом наборах."
      ],
      "metadata": {
        "id": "7scXzOm12B-e"
      }
    },
    {
      "cell_type": "code",
      "source": [
        "X_train, X_test, y_train, y_test = train_test_split(X,Y,random_state=1)\n",
        "\n",
        "dummy = DummyClassifier(strategy='most_frequent')\n",
        "dummy.fit(X_train,y_train)\n",
        "print(\"Значение правильности на обучающем наборе: \",dummy.score(X_train,y_train))\n",
        "print(\"Значение правильности на тестовом наборе: \",dummy.score(X_test,y_test))\n",
        "print()\n",
        "print(classification_report(y_test,dummy.predict(X_test)))"
      ],
      "metadata": {
        "colab": {
          "base_uri": "https://localhost:8080/"
        },
        "id": "BbFp7O9ewi9R",
        "outputId": "1010bf60-a3dc-4601-844e-a1cd7c58ba99"
      },
      "execution_count": null,
      "outputs": [
        {
          "output_type": "stream",
          "name": "stdout",
          "text": [
            "Значение правильности на обучающем наборе:  0.9090909090909091\n",
            "Значение правильности на тестовом наборе:  0.8787878787878788\n",
            "\n",
            "              precision    recall  f1-score   support\n",
            "\n",
            "       False       0.88      1.00      0.94        87\n",
            "        True       0.00      0.00      0.00        12\n",
            "\n",
            "    accuracy                           0.88        99\n",
            "   macro avg       0.44      0.50      0.47        99\n",
            "weighted avg       0.77      0.88      0.82        99\n",
            "\n"
          ]
        },
        {
          "output_type": "stream",
          "name": "stderr",
          "text": [
            "/usr/local/lib/python3.7/dist-packages/sklearn/metrics/_classification.py:1318: UndefinedMetricWarning: Precision and F-score are ill-defined and being set to 0.0 in labels with no predicted samples. Use `zero_division` parameter to control this behavior.\n",
            "  _warn_prf(average, modifier, msg_start, len(result))\n",
            "/usr/local/lib/python3.7/dist-packages/sklearn/metrics/_classification.py:1318: UndefinedMetricWarning: Precision and F-score are ill-defined and being set to 0.0 in labels with no predicted samples. Use `zero_division` parameter to control this behavior.\n",
            "  _warn_prf(average, modifier, msg_start, len(result))\n",
            "/usr/local/lib/python3.7/dist-packages/sklearn/metrics/_classification.py:1318: UndefinedMetricWarning: Precision and F-score are ill-defined and being set to 0.0 in labels with no predicted samples. Use `zero_division` parameter to control this behavior.\n",
            "  _warn_prf(average, modifier, msg_start, len(result))\n"
          ]
        }
      ]
    },
    {
      "cell_type": "markdown",
      "source": [
        "- Создайте экземпляр модели LogisticRegression и обучите его на обучающем наборе данных. Оцените правильность и полноту полученной модели на обучающем и тестовом наборах.\n"
      ],
      "metadata": {
        "id": "ZaiGmio_2Ge3"
      }
    },
    {
      "cell_type": "code",
      "source": [
        "X_train, X_test, y_train, y_test = train_test_split(X,Y,random_state=1)\n",
        "\n",
        "lr = LogisticRegression()\n",
        "lr.fit(X_train,y_train)\n",
        "\n",
        "print(\"Значение правильности на обучающем наборе: \",lr.score(X_train,y_train))\n",
        "print(\"Значение правильности на тестовом наборе: \",lr.score(X_test,y_test))\n",
        "print()\n",
        "print(classification_report(y_test,lr.predict(X_test)))"
      ],
      "metadata": {
        "colab": {
          "base_uri": "https://localhost:8080/"
        },
        "id": "IPM2D3OXyzTw",
        "outputId": "97008c40-def4-4b79-a3ea-78d87c359112"
      },
      "execution_count": null,
      "outputs": [
        {
          "output_type": "stream",
          "name": "stdout",
          "text": [
            "Значение правильности на обучающем наборе:  0.98989898989899\n",
            "Значение правильности на тестовом наборе:  0.9393939393939394\n",
            "\n",
            "              precision    recall  f1-score   support\n",
            "\n",
            "       False       0.95      0.99      0.97        87\n",
            "        True       0.88      0.58      0.70        12\n",
            "\n",
            "    accuracy                           0.94        99\n",
            "   macro avg       0.91      0.79      0.83        99\n",
            "weighted avg       0.94      0.94      0.93        99\n",
            "\n"
          ]
        },
        {
          "output_type": "stream",
          "name": "stderr",
          "text": [
            "/usr/local/lib/python3.7/dist-packages/sklearn/linear_model/_logistic.py:818: ConvergenceWarning: lbfgs failed to converge (status=1):\n",
            "STOP: TOTAL NO. of ITERATIONS REACHED LIMIT.\n",
            "\n",
            "Increase the number of iterations (max_iter) or scale the data as shown in:\n",
            "    https://scikit-learn.org/stable/modules/preprocessing.html\n",
            "Please also refer to the documentation for alternative solver options:\n",
            "    https://scikit-learn.org/stable/modules/linear_model.html#logistic-regression\n",
            "  extra_warning_msg=_LOGISTIC_SOLVER_CONVERGENCE_MSG,\n"
          ]
        }
      ]
    },
    {
      "cell_type": "markdown",
      "source": [
        "- Для обученной модели постройте ROC-кривую и рассчитайте значение AUC на тестовом наборе данных."
      ],
      "metadata": {
        "id": "mSseU8Rp2MMk"
      }
    },
    {
      "cell_type": "code",
      "source": [
        "from sklearn.metrics import roc_curve\n",
        "import matplotlib.pyplot as plt\n",
        "\n",
        "from sklearn.metrics import roc_curve\n",
        "fpr, tpr, thresholds = roc_curve(y_test, lr.decision_function(X_test))\n",
        "plt.plot(fpr, tpr, label=\"ROC-кривая\")\n",
        "plt.xlabel(\"FPR\")\n",
        "plt.ylabel(\"TPR (полнота)\")\n",
        "# находим пороговое значение, ближайшее к нулю\n",
        "close_zero = np.argmin(np.abs(thresholds))\n",
        "plt.plot(fpr[close_zero], tpr[close_zero], 'o', markersize=10,\n",
        " label=\"порог 0\", fillstyle=\"none\", c='k', mew=2)\n",
        "plt.legend(loc=4)\n"
      ],
      "metadata": {
        "colab": {
          "base_uri": "https://localhost:8080/",
          "height": 296
        },
        "id": "K6JxYGZRzKtA",
        "outputId": "e175ec3f-117d-4985-c10d-f72044283a3c"
      },
      "execution_count": null,
      "outputs": [
        {
          "output_type": "execute_result",
          "data": {
            "text/plain": [
              "<matplotlib.legend.Legend at 0x7ff695a4ba10>"
            ]
          },
          "metadata": {},
          "execution_count": 24
        },
        {
          "output_type": "display_data",
          "data": {
            "text/plain": [
              "<Figure size 432x288 with 1 Axes>"
            ],
            "image/png": "[encoded data removed]"
          },
          "metadata": {
            "needs_background": "light"
          }
        }
      ]
    },
    {
      "cell_type": "code",
      "source": [
        "from sklearn.metrics import roc_auc_score\n",
        "lr_auc = roc_auc_score(y_test, lr.decision_function(X_test))\n",
        "print(\"AUC для LogisticRegression: {:.3f}\".format(lr_auc))"
      ],
      "metadata": {
        "colab": {
          "base_uri": "https://localhost:8080/"
        },
        "id": "WkoWUAzE0jnI",
        "outputId": "da9fd719-afcf-4b11-8277-b15cf6796599"
      },
      "execution_count": null,
      "outputs": [
        {
          "output_type": "stream",
          "name": "stdout",
          "text": [
            "AUC для LogisticRegression: 0.962\n"
          ]
        }
      ]
    }
  ]
}