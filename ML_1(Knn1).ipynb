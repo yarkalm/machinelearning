{
  "nbformat": 4,
  "nbformat_minor": 0,
  "metadata": {
    "colab": {
      "provenance": [],
      "authorship_tag": "ABX9TyNXS0VofOuX6QUMV1hVAXcS",
      "include_colab_link": true
    },
    "kernelspec": {
      "name": "python3",
      "display_name": "Python 3"
    },
    "language_info": {
      "name": "python"
    }
  },
  "cells": [
    {
      "cell_type": "markdown",
      "metadata": {
        "id": "view-in-github",
        "colab_type": "text"
      },
      "source": [
        "<a href=\"https://colab.research.google.com/github/yarkalm/machinelearning/blob/main/ML_1(Knn1).ipynb\" target=\"_parent\"><img src=\"https://colab.research.google.com/assets/colab-badge.svg\" alt=\"Open In Colab\"/></a>"
      ]
    },
    {
      "cell_type": "markdown",
      "source": [
        "# Лабораторная работа по машинному обучению.\n",
        "# Метод k-ближайших соседей\n",
        "#  Dataset: **load_breast_cancer**"
      ],
      "metadata": {
        "id": "_l6p5oPr8114"
      }
    },
    {
      "cell_type": "code",
      "execution_count": null,
      "metadata": {
        "id": "zLCy9VYr0tdy"
      },
      "outputs": [],
      "source": [
        "from sklearn.model_selection import train_test_split\n",
        "from sklearn.datasets import load_breast_cancer\n",
        "from sklearn.neighbors import KNeighborsClassifier\n",
        "\n",
        "\n",
        "\n",
        "ans = [] # тренировочный массив\n",
        "test = [] # тест\n",
        "\n",
        "\n",
        "# Загрузка датасета\n",
        "cancer = load_breast_cancer()\n",
        "\n",
        "\n",
        "# Разбиение датасета на обучающие данные и метки, на тестовые данные и метки\n",
        "X_train, X_test, y_train, y_test = train_test_split(cancer['data'],cancer['target'],random_state=1)\n",
        "\n",
        "\n",
        "# Создание объекта-экземпляра класса k-ближайших соседей\n",
        "for i in range(1,21):\n",
        "  knn = KNeighborsClassifier(n_neighbors=i)\n",
        "  knn.fit(X_train,y_train)\n",
        "  ans.append(knn.score(X_train,y_train))\n",
        "  test.append(knn.score(X_test,y_test))\n"
      ]
    },
    {
      "cell_type": "markdown",
      "source": [
        "#**Создание датафрейма**"
      ],
      "metadata": {
        "id": "hYyUFZrj9Bkx"
      }
    },
    {
      "cell_type": "code",
      "source": [
        "import pandas as pd\n",
        "df = pd.DataFrame(index=list(range(1,len(ans)+1)))\n",
        "\n",
        "df['ans']=(ans)\n",
        "df['test']=test\n",
        "\n",
        "print(df)"
      ],
      "metadata": {
        "colab": {
          "base_uri": "https://localhost:8080/"
        },
        "id": "z9LXK_mm4N4o",
        "outputId": "7abaaac0-1b58-49db-db95-b460fe44de93"
      },
      "execution_count": null,
      "outputs": [
        {
          "output_type": "stream",
          "name": "stdout",
          "text": [
            "         ans      test\n",
            "1   1.000000  0.923077\n",
            "2   0.953052  0.909091\n",
            "3   0.946009  0.923077\n",
            "4   0.941315  0.902098\n",
            "5   0.938967  0.937063\n",
            "6   0.936620  0.937063\n",
            "7   0.931925  0.930070\n",
            "8   0.931925  0.937063\n",
            "9   0.936620  0.923077\n",
            "10  0.938967  0.923077\n",
            "11  0.936620  0.923077\n",
            "12  0.934272  0.923077\n",
            "13  0.934272  0.923077\n",
            "14  0.938967  0.923077\n",
            "15  0.938967  0.923077\n",
            "16  0.938967  0.923077\n",
            "17  0.936620  0.916084\n",
            "18  0.938967  0.923077\n",
            "19  0.936620  0.916084\n",
            "20  0.938967  0.916084\n"
          ]
        }
      ]
    },
    {
      "cell_type": "markdown",
      "source": [
        "#График"
      ],
      "metadata": {
        "id": "xOCtUshe9ITE"
      }
    },
    {
      "cell_type": "code",
      "source": [
        "import matplotlib.pyplot as plt\n",
        "\n",
        "index=list(range(1,len(ans)+1))\n",
        "\n",
        "if len(index)<31:\n",
        "\n",
        "  fig = plt.figure()\n",
        "  ax = fig.add_subplot(1, 1, 1)\n",
        "\n",
        "  ax.set_xticks(index)\n",
        "  ax.set_xticks(index, minor=True)\n",
        "\n",
        "ax.grid(which='both')\n",
        "ax.set_title(\"График зависимости точности параметра от n_neighbors\")\n",
        "ax.set_xlabel('Параметр n_neighbors')\n",
        "ax.set_ylabel('Точность')\n",
        "ax.legend(['train', 'test'], loc='upper left')\n",
        "\n",
        "ax.plot(index,ans, label = 'train')\n",
        "ax.plot(index,test, label = 'test')\n",
        "ax.legend()\n",
        "\n",
        "plt.plot()\n",
        "\n",
        "\n",
        "fig.show()"
      ],
      "metadata": {
        "colab": {
          "base_uri": "https://localhost:8080/",
          "height": 296
        },
        "id": "trOB26xQ5g2j",
        "outputId": "3de08f50-f12e-4ef8-e29d-797fa95d66f4"
      },
      "execution_count": null,
      "outputs": [
        {
          "output_type": "display_data",
          "data": {
            "text/plain": [
              "<Figure size 432x288 with 1 Axes>"
            ],
            "image/png": "[encoded data removed]"
          },
          "metadata": {
            "needs_background": "light"
          }
        }
      ]
    }
  ]
}