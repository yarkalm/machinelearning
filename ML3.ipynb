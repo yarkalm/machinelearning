{
  "nbformat": 4,
  "nbformat_minor": 0,
  "metadata": {
    "colab": {
      "provenance": [],
      "authorship_tag": "ABX9TyOf6LvGnmu4T2YwCvs8Lggf",
      "include_colab_link": true
    },
    "kernelspec": {
      "name": "python3",
      "display_name": "Python 3"
    },
    "language_info": {
      "name": "python"
    }
  },
  "cells": [
    {
      "cell_type": "markdown",
      "metadata": {
        "id": "view-in-github",
        "colab_type": "text"
      },
      "source": [
        "<a href=\"https://colab.research.google.com/github/yarkalm/machinelearning/blob/main/ML3.ipynb\" target=\"_parent\"><img src=\"https://colab.research.google.com/assets/colab-badge.svg\" alt=\"Open In Colab\"/></a>"
      ]
    },
    {
      "cell_type": "markdown",
      "source": [
        "# Лабораторная работа по машинному обучению.\n",
        "# Задание 3\n",
        "# Методы машинного обучения с учителем: деревья решений, ансамбли деревьев решений"
      ],
      "metadata": {
        "id": "R4dvL05HDaPU"
      }
    },
    {
      "cell_type": "markdown",
      "source": [
        "# Задача классификации (DecisionTreeClassifier)"
      ],
      "metadata": {
        "id": "54dsSSZO3Wx7"
      }
    },
    {
      "cell_type": "code",
      "source": [
        "!pip install mglearn"
      ],
      "metadata": {
        "id": "5q3sjgIuWYtf",
        "outputId": "3d74b825-c5ca-4e74-d423-28db034b1b44",
        "colab": {
          "base_uri": "https://localhost:8080/"
        }
      },
      "execution_count": null,
      "outputs": [
        {
          "output_type": "stream",
          "name": "stdout",
          "text": [
            "Requirement already satisfied: mglearn in /usr/local/lib/python3.7/dist-packages (0.1.9)\n",
            "Requirement already satisfied: pillow in /usr/local/lib/python3.7/dist-packages (from mglearn) (7.1.2)\n",
            "Requirement already satisfied: joblib in /usr/local/lib/python3.7/dist-packages (from mglearn) (1.1.0)\n",
            "Requirement already satisfied: cycler in /usr/local/lib/python3.7/dist-packages (from mglearn) (0.11.0)\n",
            "Requirement already satisfied: matplotlib in /usr/local/lib/python3.7/dist-packages (from mglearn) (3.2.2)\n",
            "Requirement already satisfied: pandas in /usr/local/lib/python3.7/dist-packages (from mglearn) (1.3.5)\n",
            "Requirement already satisfied: imageio in /usr/local/lib/python3.7/dist-packages (from mglearn) (2.4.1)\n",
            "Requirement already satisfied: scikit-learn in /usr/local/lib/python3.7/dist-packages (from mglearn) (1.0.2)\n",
            "Requirement already satisfied: numpy in /usr/local/lib/python3.7/dist-packages (from mglearn) (1.21.5)\n",
            "Requirement already satisfied: python-dateutil>=2.1 in /usr/local/lib/python3.7/dist-packages (from matplotlib->mglearn) (2.8.2)\n",
            "Requirement already satisfied: kiwisolver>=1.0.1 in /usr/local/lib/python3.7/dist-packages (from matplotlib->mglearn) (1.4.0)\n",
            "Requirement already satisfied: pyparsing!=2.0.4,!=2.1.2,!=2.1.6,>=2.0.1 in /usr/local/lib/python3.7/dist-packages (from matplotlib->mglearn) (3.0.7)\n",
            "Requirement already satisfied: typing-extensions in /usr/local/lib/python3.7/dist-packages (from kiwisolver>=1.0.1->matplotlib->mglearn) (3.10.0.2)\n",
            "Requirement already satisfied: six>=1.5 in /usr/local/lib/python3.7/dist-packages (from python-dateutil>=2.1->matplotlib->mglearn) (1.15.0)\n",
            "Requirement already satisfied: pytz>=2017.3 in /usr/local/lib/python3.7/dist-packages (from pandas->mglearn) (2018.9)\n",
            "Requirement already satisfied: threadpoolctl>=2.0.0 in /usr/local/lib/python3.7/dist-packages (from scikit-learn->mglearn) (3.1.0)\n",
            "Requirement already satisfied: scipy>=1.1.0 in /usr/local/lib/python3.7/dist-packages (from scikit-learn->mglearn) (1.4.1)\n"
          ]
        }
      ]
    },
    {
      "cell_type": "code",
      "execution_count": null,
      "metadata": {
        "id": "HQvI7BuL1l5S"
      },
      "outputs": [],
      "source": [
        "from sklearn.model_selection import train_test_split\n",
        "from sklearn.datasets import load_breast_cancer\n",
        "from sklearn.tree import DecisionTreeClassifier"
      ]
    },
    {
      "cell_type": "markdown",
      "source": [
        "- Загрузите набор данных по раку молочной железы с помощью функции load_breast_cancer из scikit-learn. Разбейте его на обучающий и тестовый наборы.\n",
        "- Создайте экземпляр модели DecisionTreeClassifier и обучите его на обучающем наборе данных. Оцените правильность полученной модели на обучающем и тестовом наборах."
      ],
      "metadata": {
        "id": "PXfarWDUDp1e"
      }
    },
    {
      "cell_type": "code",
      "source": [
        "# Загрузка датасета\n",
        "cancer = load_breast_cancer()\n",
        "\n",
        "X_train, X_test, y_train, y_test = train_test_split(cancer.data,cancer.target,random_state=1)\n",
        "\n",
        "dtc = DecisionTreeClassifier()\n",
        "dtc.fit(X_train, y_train)\n",
        "\n",
        "print(\"Train:\",dtc.score(X_train, y_train))\n",
        "print(\"Test\",dtc.score(X_test, y_test))"
      ],
      "metadata": {
        "id": "9UvVstN32Z5R",
        "colab": {
          "base_uri": "https://localhost:8080/"
        },
        "outputId": "22d0d905-4332-4b50-a029-738d52f980f0"
      },
      "execution_count": null,
      "outputs": [
        {
          "output_type": "stream",
          "name": "stdout",
          "text": [
            "Train: 1.0\n",
            "Test 0.965034965034965\n"
          ]
        }
      ]
    },
    {
      "cell_type": "markdown",
      "source": [
        "- Повторите эксперимент, используя значения параметра max_depth равные 1, 2, … 10."
      ],
      "metadata": {
        "id": "y2jJysfZxM8V"
      }
    },
    {
      "cell_type": "code",
      "source": [
        "dtc_train = []\n",
        "dtc_test = []\n",
        "\n",
        "\n",
        "for value in range(1,11):\n",
        "  dtc = DecisionTreeClassifier(max_depth=value)\n",
        "  dtc.fit(X_train, y_train)\n",
        "  dtc_train.append(dtc.score(X_train, y_train))\n",
        "  dtc_test.append(dtc.score(X_test, y_test))"
      ],
      "metadata": {
        "id": "5WMYG-4oxPw0"
      },
      "execution_count": null,
      "outputs": []
    },
    {
      "cell_type": "markdown",
      "source": [
        " Постройте график зависимости правильности модели на обучающем и тестовом наборах данных от значения max_depth."
      ],
      "metadata": {
        "id": "u5ybG_sSyfzK"
      }
    },
    {
      "cell_type": "code",
      "source": [
        "import matplotlib.pyplot as plt\n",
        "plt.plot(range(1,11),dtc_train,c=\"red\",label = \"train\")\n",
        "plt.plot(range(1,11),dtc_test,c=\"blue\",label = \"test\")\n",
        "plt.legend()\n",
        "plt.show()"
      ],
      "metadata": {
        "colab": {
          "base_uri": "https://localhost:8080/",
          "height": 265
        },
        "id": "WGiGDSwHycw6",
        "outputId": "34e711f8-3156-4aa5-d58d-e8fa6562d7f2"
      },
      "execution_count": null,
      "outputs": [
        {
          "output_type": "display_data",
          "data": {
            "text/plain": [
              "<Figure size 432x288 with 1 Axes>"
            ],
            "image/png": "[encoded data removed]"
          },
          "metadata": {
            "needs_background": "light"
          }
        }
      ]
    },
    {
      "cell_type": "markdown",
      "source": [
        "# Задача классификации (RandomForestClassifier)"
      ],
      "metadata": {
        "id": "X33oZWJQ3UGZ"
      }
    },
    {
      "cell_type": "code",
      "source": [
        "from sklearn.model_selection import train_test_split\n",
        "from sklearn.datasets import load_breast_cancer\n",
        "from sklearn.ensemble import RandomForestClassifier"
      ],
      "metadata": {
        "id": "edhZMNF44Srh"
      },
      "execution_count": null,
      "outputs": []
    },
    {
      "cell_type": "markdown",
      "source": [
        "Обучите модель RandomForestClassifier, используя значения параметра n_estimators равные 5, 10, … 50."
      ],
      "metadata": {
        "id": "HbXABVIbD3-O"
      }
    },
    {
      "cell_type": "code",
      "source": [
        "cancer = load_breast_cancer()\n",
        "\n",
        "X_train, X_test, y_train, y_test = train_test_split(cancer.data,cancer.target,random_state=1)\n",
        "\n",
        "\n",
        "rfc_train = []\n",
        "rfc_test = []\n",
        "est_values = [5, 10, 15, 20, 25, 30, 35, 40, 45, 50]\n",
        "for value in est_values:\n",
        "  rfc = RandomForestClassifier(n_estimators = value)\n",
        "  rfc.fit(X_train,y_train)\n",
        "  rfc_train.append(rfc.score(X_train,y_train))\n",
        "  rfc_test.append(rfc.score(X_test,y_test))"
      ],
      "metadata": {
        "id": "7P6nkRLP4KTS"
      },
      "execution_count": null,
      "outputs": []
    },
    {
      "cell_type": "markdown",
      "source": [
        "Постройте график зависимости правильности модели на обучающем и тестовом наборах данных от значения n_estimators."
      ],
      "metadata": {
        "id": "ve7QajGDD9Tc"
      }
    },
    {
      "cell_type": "code",
      "source": [
        "import matplotlib.pyplot as plt\n",
        "plt.plot(est_values,rfc_train,c=\"red\",label = \"train\")\n",
        "plt.plot(est_values,rfc_test,c=\"blue\",label = \"test\")\n",
        "plt.legend()\n",
        "plt.show()"
      ],
      "metadata": {
        "colab": {
          "base_uri": "https://localhost:8080/",
          "height": 265
        },
        "outputId": "b250c513-ae8f-4089-c218-b837f6a3433f",
        "id": "dkxsCzRY5lUC"
      },
      "execution_count": null,
      "outputs": [
        {
          "output_type": "display_data",
          "data": {
            "text/plain": [
              "<Figure size 432x288 with 1 Axes>"
            ],
            "image/png": "[encoded data removed]"
          },
          "metadata": {
            "needs_background": "light"
          }
        }
      ]
    },
    {
      "cell_type": "markdown",
      "source": [
        "# Решение задачи регрессии на сгенерированных данных (LinearRegressor & DecisionTreeRegressor)"
      ],
      "metadata": {
        "id": "e7eC6B_396lg"
      }
    },
    {
      "cell_type": "code",
      "source": [
        "from sklearn.model_selection import train_test_split\n",
        "from sklearn.tree import DecisionTreeRegressor\n",
        "from sklearn.linear_model import LinearRegression\n",
        "import numpy as np\n",
        "import matplotlib.pyplot as plt"
      ],
      "metadata": {
        "id": "_IKFDrs_-FCa"
      },
      "execution_count": null,
      "outputs": []
    },
    {
      "cell_type": "markdown",
      "source": [
        "Сгенерируйте синтетический набор данных. Постройте точечную диаграмму по полученным данным"
      ],
      "metadata": {
        "id": "6RET6QKMECeF"
      }
    },
    {
      "cell_type": "code",
      "source": [
        "np.random.seed(0)\n",
        "X = np.arange(1.0, 10.0, 0.1).reshape(-1, 1)\n",
        "Y = np.array([max(0, (1 / x) + np.random.normal(scale = 0.05)) for x in X])\n",
        "plt.scatter(X, Y)\n",
        "plt.show()"
      ],
      "metadata": {
        "colab": {
          "base_uri": "https://localhost:8080/",
          "height": 265
        },
        "id": "BFXV_ERV14RL",
        "outputId": "96e3daf0-a4ce-4a66-bee6-ac5046c88d56"
      },
      "execution_count": null,
      "outputs": [
        {
          "output_type": "display_data",
          "data": {
            "text/plain": [
              "<Figure size 432x288 with 1 Axes>"
            ],
            "image/png": "[encoded data removed]"
          },
          "metadata": {
            "needs_background": "light"
          }
        }
      ]
    },
    {
      "cell_type": "markdown",
      "source": [
        "Разбейте сгенерированный набор данных на обучающий и тестовый наборы.\n",
        "- Создайте экземпляр модели LinearRegression и обучите его на обучающем наборе данных. Оцените качество полученной модели на обучающем и тестовом наборах используя метрику R^2 или среднюю квадратическую ошибку."
      ],
      "metadata": {
        "id": "LydSEfyB2KlP"
      }
    },
    {
      "cell_type": "code",
      "source": [
        "X_train, X_test, y_train, y_test = train_test_split(X,Y,random_state=2)\n",
        "\n",
        "\n",
        "lr = LinearRegression()\n",
        "lr.fit(X_train, y_train)\n",
        "\n",
        "\n",
        "print(\"Train:\",lr.score(X_train, y_train))\n",
        "print(\"Test\",lr.score(X_test, y_test))"
      ],
      "metadata": {
        "colab": {
          "base_uri": "https://localhost:8080/"
        },
        "id": "Jy1bxQ8g-HJq",
        "outputId": "98cc7f5c-fb3d-48d7-ae99-b5b248e6b60d"
      },
      "execution_count": null,
      "outputs": [
        {
          "output_type": "stream",
          "name": "stdout",
          "text": [
            "Train: 0.675823075522896\n",
            "Test 0.5551522321520721\n"
          ]
        }
      ]
    },
    {
      "cell_type": "markdown",
      "source": [
        "Создайте экземпляр модели DecisionTreeRegressor и обучите его на обучающем наборе данных. Оцените качество полученной модели на обучающем и тестовом наборах используя метрику R^2 или среднюю квадратическую ошибку и сравните результат с полученным на предыдущем шаге."
      ],
      "metadata": {
        "id": "AvNRwwJlEFa1"
      }
    },
    {
      "cell_type": "code",
      "source": [
        "X_train, X_test, y_train, y_test = train_test_split(X,Y,random_state=2)\n",
        "\n",
        "dtr = DecisionTreeRegressor()\n",
        "dtr.fit(X_train, y_train)\n",
        "\n",
        "print(\"Train:\",dtr.score(X_train, y_train))\n",
        "print(\"Test\",dtr.score(X_test, y_test))"
      ],
      "metadata": {
        "colab": {
          "base_uri": "https://localhost:8080/"
        },
        "id": "-09u7W1S3V2c",
        "outputId": "90a43771-3296-42c3-a31f-00fbd38bcf2e"
      },
      "execution_count": null,
      "outputs": [
        {
          "output_type": "stream",
          "name": "stdout",
          "text": [
            "Train: 1.0\n",
            "Test 0.8842807534920496\n"
          ]
        }
      ]
    },
    {
      "cell_type": "markdown",
      "source": [
        "\n",
        "\n",
        "---\n",
        "\n"
      ],
      "metadata": {
        "id": "92tDN_yt33It"
      }
    },
    {
      "cell_type": "markdown",
      "source": [
        "# Решение задачи регрессии (DecisionTreeRegressor)"
      ],
      "metadata": {
        "id": "HxvXGzZ05utK"
      }
    },
    {
      "cell_type": "code",
      "source": [
        "from sklearn.model_selection import train_test_split\n",
        "from sklearn.tree import DecisionTreeRegressor\n",
        "from sklearn.datasets import load_boston"
      ],
      "metadata": {
        "id": "AIZmn-B060l8"
      },
      "execution_count": null,
      "outputs": []
    },
    {
      "cell_type": "markdown",
      "source": [
        "Загрузите набор данных Boston Housing с помощью функции load_boston из scikit-learn. Разбейте его на обучающий и тестовый наборы. Обучите модель DecisionTreeRegressor, используя значения параметра max_depth равные 1, 2, … 10. "
      ],
      "metadata": {
        "id": "_VNtIv2N31SC"
      }
    },
    {
      "cell_type": "code",
      "source": [
        "boston = load_boston()\n",
        "\n",
        "X_train, X_test, y_train, y_test = train_test_split(boston.data,boston.target,random_state=2)\n",
        "\n",
        "\n",
        "dtr_train = []\n",
        "dtr_test = []\n",
        "\n",
        "\n",
        "for value in range(1,11):\n",
        "  dtr = DecisionTreeRegressor(max_depth=value)\n",
        "  dtr.fit(X_train, y_train)\n",
        "  dtr_train.append(dtr.score(X_train, y_train))\n",
        "  dtr_test.append(dtr.score(X_test, y_test))"
      ],
      "metadata": {
        "id": "bRuSzRlD35MT",
        "colab": {
          "base_uri": "https://localhost:8080/"
        },
        "outputId": "f9b22f6b-642b-4a1e-a1b7-6fc3d0afb3b3"
      },
      "execution_count": null,
      "outputs": [
        {
          "output_type": "stream",
          "name": "stderr",
          "text": [
            "/usr/local/lib/python3.7/dist-packages/sklearn/utils/deprecation.py:87: FutureWarning: Function load_boston is deprecated; `load_boston` is deprecated in 1.0 and will be removed in 1.2.\n",
            "\n",
            "    The Boston housing prices dataset has an ethical problem. You can refer to\n",
            "    the documentation of this function for further details.\n",
            "\n",
            "    The scikit-learn maintainers therefore strongly discourage the use of this\n",
            "    dataset unless the purpose of the code is to study and educate about\n",
            "    ethical issues in data science and machine learning.\n",
            "\n",
            "    In this special case, you can fetch the dataset from the original\n",
            "    source::\n",
            "\n",
            "        import pandas as pd\n",
            "        import numpy as np\n",
            "\n",
            "\n",
            "        data_url = \"http://lib.stat.cmu.edu/datasets/boston\"\n",
            "        raw_df = pd.read_csv(data_url, sep=\"\\s+\", skiprows=22, header=None)\n",
            "        data = np.hstack([raw_df.values[::2, :], raw_df.values[1::2, :2]])\n",
            "        target = raw_df.values[1::2, 2]\n",
            "\n",
            "    Alternative datasets include the California housing dataset (i.e.\n",
            "    :func:`~sklearn.datasets.fetch_california_housing`) and the Ames housing\n",
            "    dataset. You can load the datasets as follows::\n",
            "\n",
            "        from sklearn.datasets import fetch_california_housing\n",
            "        housing = fetch_california_housing()\n",
            "\n",
            "    for the California housing dataset and::\n",
            "\n",
            "        from sklearn.datasets import fetch_openml\n",
            "        housing = fetch_openml(name=\"house_prices\", as_frame=True)\n",
            "\n",
            "    for the Ames housing dataset.\n",
            "    \n",
            "  warnings.warn(msg, category=FutureWarning)\n"
          ]
        }
      ]
    },
    {
      "cell_type": "markdown",
      "source": [
        "Постройте график зависимости R^2 или средней квадратической ошибки на обучающем и тестовом наборах данных от значения max_depth."
      ],
      "metadata": {
        "id": "s9TnRJoc4WX0"
      }
    },
    {
      "cell_type": "code",
      "source": [
        "import matplotlib.pyplot as plt\n",
        "plt.plot(range(1,11),dtr_train,c=\"red\",label = \"train\")\n",
        "plt.plot(range(1,11),dtr_test,c=\"blue\",label = \"test\")\n",
        "plt.legend()\n",
        "plt.show()"
      ],
      "metadata": {
        "colab": {
          "base_uri": "https://localhost:8080/",
          "height": 265
        },
        "id": "jjB8yZ4f-qXk",
        "outputId": "4046b6e2-45e4-40f8-92cc-9e73ae2ddb6a"
      },
      "execution_count": null,
      "outputs": [
        {
          "output_type": "display_data",
          "data": {
            "text/plain": [
              "<Figure size 432x288 with 1 Axes>"
            ],
            "image/png": "[encoded data removed]"
          },
          "metadata": {
            "needs_background": "light"
          }
        }
      ]
    },
    {
      "cell_type": "markdown",
      "source": [
        "\n",
        "\n",
        "---\n",
        "\n"
      ],
      "metadata": {
        "id": "IEwOQBwA4lSl"
      }
    },
    {
      "cell_type": "markdown",
      "source": [
        "# Решение задачи регрессии (RandomForestRegressor)"
      ],
      "metadata": {
        "id": "f9FcGusp6Gvh"
      }
    },
    {
      "cell_type": "code",
      "source": [
        "from sklearn.model_selection import train_test_split\n",
        "from sklearn.datasets import load_boston\n",
        "from sklearn.ensemble import RandomForestRegressor"
      ],
      "metadata": {
        "id": "3YGIwiop642O"
      },
      "execution_count": null,
      "outputs": []
    },
    {
      "cell_type": "markdown",
      "source": [
        "Обучите модель RandomForestRegressor, используя значения параметра n_estimators равные 5, 10, … 50."
      ],
      "metadata": {
        "id": "GPRKTDkKEHTe"
      }
    },
    {
      "cell_type": "code",
      "source": [
        "boston = load_boston()\n",
        "\n",
        "X_train, X_test, y_train, y_test = train_test_split(boston.data,boston.target,random_state=2)\n",
        "\n",
        "\n",
        "rfr_train = []\n",
        "rfr_test = []\n",
        "est_values = [5, 10, 15, 20, 25, 30, 35, 40, 45, 50]\n",
        "for value in est_values:\n",
        "  rfr = RandomForestRegressor(n_estimators = value)\n",
        "  rfr.fit(X_train,y_train)\n",
        "  rfr_train.append(rfr.score(X_train,y_train))\n",
        "  rfr_test.append(rfr.score(X_test,y_test))"
      ],
      "metadata": {
        "id": "4ujlIu4x-sh2",
        "colab": {
          "base_uri": "https://localhost:8080/"
        },
        "outputId": "4b63f4aa-d2cd-425d-fd1b-74f76e0607cd"
      },
      "execution_count": null,
      "outputs": [
        {
          "output_type": "stream",
          "name": "stderr",
          "text": [
            "/usr/local/lib/python3.7/dist-packages/sklearn/utils/deprecation.py:87: FutureWarning: Function load_boston is deprecated; `load_boston` is deprecated in 1.0 and will be removed in 1.2.\n",
            "\n",
            "    The Boston housing prices dataset has an ethical problem. You can refer to\n",
            "    the documentation of this function for further details.\n",
            "\n",
            "    The scikit-learn maintainers therefore strongly discourage the use of this\n",
            "    dataset unless the purpose of the code is to study and educate about\n",
            "    ethical issues in data science and machine learning.\n",
            "\n",
            "    In this special case, you can fetch the dataset from the original\n",
            "    source::\n",
            "\n",
            "        import pandas as pd\n",
            "        import numpy as np\n",
            "\n",
            "\n",
            "        data_url = \"http://lib.stat.cmu.edu/datasets/boston\"\n",
            "        raw_df = pd.read_csv(data_url, sep=\"\\s+\", skiprows=22, header=None)\n",
            "        data = np.hstack([raw_df.values[::2, :], raw_df.values[1::2, :2]])\n",
            "        target = raw_df.values[1::2, 2]\n",
            "\n",
            "    Alternative datasets include the California housing dataset (i.e.\n",
            "    :func:`~sklearn.datasets.fetch_california_housing`) and the Ames housing\n",
            "    dataset. You can load the datasets as follows::\n",
            "\n",
            "        from sklearn.datasets import fetch_california_housing\n",
            "        housing = fetch_california_housing()\n",
            "\n",
            "    for the California housing dataset and::\n",
            "\n",
            "        from sklearn.datasets import fetch_openml\n",
            "        housing = fetch_openml(name=\"house_prices\", as_frame=True)\n",
            "\n",
            "    for the Ames housing dataset.\n",
            "    \n",
            "  warnings.warn(msg, category=FutureWarning)\n"
          ]
        }
      ]
    },
    {
      "cell_type": "markdown",
      "source": [
        "Постройте график зависимости R^2 или средней квадратической ошибки на обучающем и тестовом наборах данных от значения n_estimators."
      ],
      "metadata": {
        "id": "xzQC-iH35CRf"
      }
    },
    {
      "cell_type": "code",
      "source": [
        "import matplotlib.pyplot as plt\n",
        "plt.plot(est_values,rfr_train,c=\"red\",label = \"train\")\n",
        "plt.plot(est_values,rfr_test,c=\"blue\",label = \"test\")\n",
        "plt.legend()\n",
        "plt.show()"
      ],
      "metadata": {
        "colab": {
          "base_uri": "https://localhost:8080/",
          "height": 265
        },
        "id": "SaGIEimH5Hr_",
        "outputId": "440359b6-b070-4bef-dc53-2ebc17069372"
      },
      "execution_count": null,
      "outputs": [
        {
          "output_type": "display_data",
          "data": {
            "text/plain": [
              "<Figure size 432x288 with 1 Axes>"
            ],
            "image/png": "[encoded data removed]"
          },
          "metadata": {
            "needs_background": "light"
          }
        }
      ]
    }
  ]
}