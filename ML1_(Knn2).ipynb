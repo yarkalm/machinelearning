{
  "nbformat": 4,
  "nbformat_minor": 0,
  "metadata": {
    "colab": {
      "provenance": [],
      "authorship_tag": "ABX9TyMiOUk0Jloe1GKi79f8Zq+q",
      "include_colab_link": true
    },
    "kernelspec": {
      "name": "python3",
      "display_name": "Python 3"
    },
    "language_info": {
      "name": "python"
    }
  },
  "cells": [
    {
      "cell_type": "markdown",
      "metadata": {
        "id": "view-in-github",
        "colab_type": "text"
      },
      "source": [
        "<a href=\"https://colab.research.google.com/github/yarkalm/machinelearning/blob/main/ML1_(Knn2).ipynb\" target=\"_parent\"><img src=\"https://colab.research.google.com/assets/colab-badge.svg\" alt=\"Open In Colab\"/></a>"
      ]
    },
    {
      "cell_type": "markdown",
      "source": [
        "# Калмыков Я.А. КЭ-319 ЮУрГУ\n",
        "# Лабораторная работа по машинному обучению.\n",
        "# Метод k-ближайших соседей\n",
        "# Dataset: **load_boston**"
      ],
      "metadata": {
        "id": "ejaFETS1-Hy0"
      }
    },
    {
      "cell_type": "code",
      "execution_count": null,
      "metadata": {
        "colab": {
          "base_uri": "https://localhost:8080/"
        },
        "id": "0fIARkAf-DV9",
        "outputId": "ba7896d7-994d-43fe-8c3f-a262d5a62247"
      },
      "outputs": [
        {
          "output_type": "stream",
          "name": "stderr",
          "text": [
            "/usr/local/lib/python3.8/dist-packages/sklearn/utils/deprecation.py:87: FutureWarning: Function load_boston is deprecated; `load_boston` is deprecated in 1.0 and will be removed in 1.2.\n",
            "\n",
            "    The Boston housing prices dataset has an ethical problem. You can refer to\n",
            "    the documentation of this function for further details.\n",
            "\n",
            "    The scikit-learn maintainers therefore strongly discourage the use of this\n",
            "    dataset unless the purpose of the code is to study and educate about\n",
            "    ethical issues in data science and machine learning.\n",
            "\n",
            "    In this special case, you can fetch the dataset from the original\n",
            "    source::\n",
            "\n",
            "        import pandas as pd\n",
            "        import numpy as np\n",
            "\n",
            "\n",
            "        data_url = \"http://lib.stat.cmu.edu/datasets/boston\"\n",
            "        raw_df = pd.read_csv(data_url, sep=\"\\s+\", skiprows=22, header=None)\n",
            "        data = np.hstack([raw_df.values[::2, :], raw_df.values[1::2, :2]])\n",
            "        target = raw_df.values[1::2, 2]\n",
            "\n",
            "    Alternative datasets include the California housing dataset (i.e.\n",
            "    :func:`~sklearn.datasets.fetch_california_housing`) and the Ames housing\n",
            "    dataset. You can load the datasets as follows::\n",
            "\n",
            "        from sklearn.datasets import fetch_california_housing\n",
            "        housing = fetch_california_housing()\n",
            "\n",
            "    for the California housing dataset and::\n",
            "\n",
            "        from sklearn.datasets import fetch_openml\n",
            "        housing = fetch_openml(name=\"house_prices\", as_frame=True)\n",
            "\n",
            "    for the Ames housing dataset.\n",
            "    \n",
            "  warnings.warn(msg, category=FutureWarning)\n"
          ]
        }
      ],
      "source": [
        "from sklearn.model_selection import train_test_split\n",
        "from sklearn.datasets import load_boston\n",
        "from sklearn.neighbors import KNeighborsRegressor\n",
        "import sklearn\n",
        "import numpy as np\n",
        "\n",
        "\n",
        "test = [] # массив значений точности при параметре n_neighbors\n",
        "train = []\n",
        "\n",
        "# Загрузка датасета\n",
        "boston = load_boston()\n",
        "\n",
        "\n",
        "# Разбиение датасета на обучающие данные и метки, на тестовые данные и метки\n",
        "#X_train, X_test, y_train, y_test = train_test_split(boston['data'],boston['target'],random_state=0)\n",
        "\n",
        "X_train, X_test, y_train, y_test = train_test_split(boston.data,boston.target,random_state=2)\n",
        "\n",
        "# Создание объекта-экземпляра класса k-ближайших соседей\n",
        "for i in range(1,21):\n",
        "  knn = KNeighborsRegressor(n_neighbors=i)\n",
        "  knn.fit(X_train,y_train)\n",
        "  # сделать так же для трэйна\n",
        "  test.append(knn.score(X_test,y_test))\n",
        "  train.append(knn.score(X_train,y_train))\n",
        "  #test.append(sklearn.metrics.r2_score(y_test,knn.predict(X_test)))\n",
        "\n"
      ]
    },
    {
      "cell_type": "code",
      "source": [
        "import pandas as pd\n",
        "df = pd.DataFrame(index=list(range(1,len(test)+1)))\n",
        "\n",
        "df['test']=(test)\n",
        "df['train']=train\n",
        "\n",
        "print(df)"
      ],
      "metadata": {
        "colab": {
          "base_uri": "https://localhost:8080/"
        },
        "id": "kSOVYvlB_gJ_",
        "outputId": "8b4436f6-c49f-452b-88b2-73e42e9e4ce2"
      },
      "execution_count": null,
      "outputs": [
        {
          "output_type": "stream",
          "name": "stdout",
          "text": [
            "        test     train\n",
            "1   0.428165  1.000000\n",
            "2   0.574613  0.839285\n",
            "3   0.584289  0.750043\n",
            "4   0.574118  0.710262\n",
            "5   0.591373  0.666435\n",
            "6   0.570590  0.646090\n",
            "7   0.581563  0.622406\n",
            "8   0.577863  0.616284\n",
            "9   0.570302  0.577777\n",
            "10  0.576661  0.567861\n",
            "11  0.563265  0.552312\n",
            "12  0.552158  0.536791\n",
            "13  0.536004  0.523649\n",
            "14  0.527098  0.495398\n",
            "15  0.517997  0.475571\n",
            "16  0.509137  0.458365\n",
            "17  0.506614  0.445439\n",
            "18  0.498670  0.437795\n",
            "19  0.493234  0.426211\n",
            "20  0.485157  0.417731\n"
          ]
        }
      ]
    },
    {
      "cell_type": "code",
      "source": [
        "import matplotlib.pyplot as plt\n",
        "\n",
        "index=list(range(1,len(test)+1))\n",
        "\n",
        "if len(index)<31:\n",
        "\n",
        "  fig = plt.figure()\n",
        "  ax = fig.add_subplot(1, 1, 1)\n",
        "\n",
        "  ax.set_xticks(index)\n",
        "  ax.set_xticks(index, minor=True)\n",
        "\n",
        "ax.grid(which='both')\n",
        "ax.set_title(\"График зависимости точности параметра от n_neighbors\")\n",
        "ax.set_xlabel('Параметр n_neighbors')\n",
        "ax.set_ylabel('Точность')\n",
        "\n",
        "ax.plot(index,train, label = 'train')\n",
        "ax.plot(index,test, label = 'test')\n",
        "ax.legend()\n",
        "\n",
        "\n",
        "plt.plot()\n",
        "fig.show()"
      ],
      "metadata": {
        "id": "YJVLL-TyDuIQ",
        "outputId": "43ef85a6-ce4f-4d92-b842-fc780a200340",
        "colab": {
          "base_uri": "https://localhost:8080/",
          "height": 296
        }
      },
      "execution_count": null,
      "outputs": [
        {
          "output_type": "display_data",
          "data": {
            "text/plain": [
              "<Figure size 432x288 with 1 Axes>"
            ],
            "image/png": "[encoded data removed]"
          },
          "metadata": {
            "needs_background": "light"
          }
        }
      ]
    }
  ]
}