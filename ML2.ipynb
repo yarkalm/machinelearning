{
  "nbformat": 4,
  "nbformat_minor": 0,
  "metadata": {
    "colab": {
      "provenance": [],
      "toc_visible": true,
      "authorship_tag": "ABX9TyP1zyyjO8s8C00dcvZ50vZi",
      "include_colab_link": true
    },
    "kernelspec": {
      "name": "python3",
      "display_name": "Python 3"
    },
    "language_info": {
      "name": "python"
    }
  },
  "cells": [
    {
      "cell_type": "markdown",
      "metadata": {
        "id": "view-in-github",
        "colab_type": "text"
      },
      "source": [
        "<a href=\"https://colab.research.google.com/github/yarkalm/machinelearning/blob/main/ML2.ipynb\" target=\"_parent\"><img src=\"https://colab.research.google.com/assets/colab-badge.svg\" alt=\"Open In Colab\"/></a>"
      ]
    },
    {
      "cell_type": "markdown",
      "source": [
        "# Калмыков Я.А.\n",
        "# Лабораторная работа по машинному обучению.\n",
        "# Задание 2"
      ],
      "metadata": {
        "id": "R4dvL05HDaPU"
      }
    },
    {
      "cell_type": "markdown",
      "source": [
        "Решение задачи регресии"
      ],
      "metadata": {
        "id": "MVQaKIAJDjO1"
      }
    },
    {
      "cell_type": "markdown",
      "source": [
        "# Линейная регрессия"
      ],
      "metadata": {
        "id": "54dsSSZO3Wx7"
      }
    },
    {
      "cell_type": "code",
      "execution_count": null,
      "metadata": {
        "id": "HQvI7BuL1l5S"
      },
      "outputs": [],
      "source": [
        "from sklearn.model_selection import train_test_split\n",
        "from sklearn.datasets import load_boston\n",
        "from sklearn.linear_model import LinearRegression"
      ]
    },
    {
      "cell_type": "markdown",
      "source": [
        "– Создайте экземпляр модели LinearRegression и обучите его на обучающем наборе данных. Оцените качество полученной модели на обучающем и тестовом наборах используя метрику R^2 или среднюю квадратическую ошибку."
      ],
      "metadata": {
        "id": "PXfarWDUDp1e"
      }
    },
    {
      "cell_type": "code",
      "source": [
        "\n",
        "# Загрузка датасета\n",
        "boston = load_boston()\n",
        "\n",
        "X_train, X_test, y_train, y_test = train_test_split(boston.data,boston.target,random_state=2)\n",
        "\n",
        "lr = LinearRegression()\n",
        "lr.fit(X_train, y_train)\n",
        "\n",
        "print(\"Train:\",lr.score(X_train, y_train))\n",
        "print(\"Test\",lr.score(X_test, y_test))\n",
        "\n"
      ],
      "metadata": {
        "id": "9UvVstN32Z5R",
        "colab": {
          "base_uri": "https://localhost:8080/"
        },
        "outputId": "05be67e9-c84c-43af-9823-7f2ec466c03c"
      },
      "execution_count": null,
      "outputs": [
        {
          "output_type": "stream",
          "name": "stdout",
          "text": [
            "Train: 0.7341220456408117\n",
            "Test 0.7503116174489224\n"
          ]
        },
        {
          "output_type": "stream",
          "name": "stderr",
          "text": [
            "/usr/local/lib/python3.7/dist-packages/sklearn/utils/deprecation.py:87: FutureWarning: Function load_boston is deprecated; `load_boston` is deprecated in 1.0 and will be removed in 1.2.\n",
            "\n",
            "    The Boston housing prices dataset has an ethical problem. You can refer to\n",
            "    the documentation of this function for further details.\n",
            "\n",
            "    The scikit-learn maintainers therefore strongly discourage the use of this\n",
            "    dataset unless the purpose of the code is to study and educate about\n",
            "    ethical issues in data science and machine learning.\n",
            "\n",
            "    In this special case, you can fetch the dataset from the original\n",
            "    source::\n",
            "\n",
            "        import pandas as pd\n",
            "        import numpy as np\n",
            "\n",
            "\n",
            "        data_url = \"http://lib.stat.cmu.edu/datasets/boston\"\n",
            "        raw_df = pd.read_csv(data_url, sep=\"\\s+\", skiprows=22, header=None)\n",
            "        data = np.hstack([raw_df.values[::2, :], raw_df.values[1::2, :2]])\n",
            "        target = raw_df.values[1::2, 2]\n",
            "\n",
            "    Alternative datasets include the California housing dataset (i.e.\n",
            "    :func:`~sklearn.datasets.fetch_california_housing`) and the Ames housing\n",
            "    dataset. You can load the datasets as follows::\n",
            "\n",
            "        from sklearn.datasets import fetch_california_housing\n",
            "        housing = fetch_california_housing()\n",
            "\n",
            "    for the California housing dataset and::\n",
            "\n",
            "        from sklearn.datasets import fetch_openml\n",
            "        housing = fetch_openml(name=\"house_prices\", as_frame=True)\n",
            "\n",
            "    for the Ames housing dataset.\n",
            "    \n",
            "  warnings.warn(msg, category=FutureWarning)\n"
          ]
        }
      ]
    },
    {
      "cell_type": "markdown",
      "source": [
        "# Лассо"
      ],
      "metadata": {
        "id": "X33oZWJQ3UGZ"
      }
    },
    {
      "cell_type": "code",
      "source": [
        "from sklearn.model_selection import train_test_split\n",
        "from sklearn.datasets import load_boston\n",
        "from sklearn.linear_model import Lasso\n",
        "import numpy as np\n",
        "import pandas as pd"
      ],
      "metadata": {
        "id": "edhZMNF44Srh"
      },
      "execution_count": null,
      "outputs": []
    },
    {
      "cell_type": "markdown",
      "source": [
        "– Обучите модель Lasso, используя значения параметра alpha равные 0,01, 0,1, 1, 10 и 100. "
      ],
      "metadata": {
        "id": "HbXABVIbD3-O"
      }
    },
    {
      "cell_type": "code",
      "source": [
        "from sklearn.linear_model import Lasso\n",
        "\n",
        "boston = load_boston()\n",
        "\n",
        "X_train, X_test, y_train, y_test = train_test_split(boston.data,boston.target,random_state=2)\n",
        "test = [] # массив значений точности при параметре n_neighbors\n",
        "train = []\n",
        "\n",
        "\n",
        "\n",
        "alpha_values = [0.01,0.1,1,10,100]\n",
        "for alpha in alpha_values:\n",
        "  lasso = Lasso(alpha = alpha)\n",
        "  lasso.fit(X_train,y_train)\n",
        "  train.append(lasso.score(X_train,y_train))\n",
        "  test.append(lasso.score(X_test,y_test))"
      ],
      "metadata": {
        "id": "7P6nkRLP4KTS",
        "colab": {
          "base_uri": "https://localhost:8080/"
        },
        "outputId": "1ac770f9-50c0-4bd2-ae6c-11018d1ee50e"
      },
      "execution_count": null,
      "outputs": [
        {
          "output_type": "stream",
          "name": "stderr",
          "text": [
            "/usr/local/lib/python3.7/dist-packages/sklearn/utils/deprecation.py:87: FutureWarning: Function load_boston is deprecated; `load_boston` is deprecated in 1.0 and will be removed in 1.2.\n",
            "\n",
            "    The Boston housing prices dataset has an ethical problem. You can refer to\n",
            "    the documentation of this function for further details.\n",
            "\n",
            "    The scikit-learn maintainers therefore strongly discourage the use of this\n",
            "    dataset unless the purpose of the code is to study and educate about\n",
            "    ethical issues in data science and machine learning.\n",
            "\n",
            "    In this special case, you can fetch the dataset from the original\n",
            "    source::\n",
            "\n",
            "        import pandas as pd\n",
            "        import numpy as np\n",
            "\n",
            "\n",
            "        data_url = \"http://lib.stat.cmu.edu/datasets/boston\"\n",
            "        raw_df = pd.read_csv(data_url, sep=\"\\s+\", skiprows=22, header=None)\n",
            "        data = np.hstack([raw_df.values[::2, :], raw_df.values[1::2, :2]])\n",
            "        target = raw_df.values[1::2, 2]\n",
            "\n",
            "    Alternative datasets include the California housing dataset (i.e.\n",
            "    :func:`~sklearn.datasets.fetch_california_housing`) and the Ames housing\n",
            "    dataset. You can load the datasets as follows::\n",
            "\n",
            "        from sklearn.datasets import fetch_california_housing\n",
            "        housing = fetch_california_housing()\n",
            "\n",
            "    for the California housing dataset and::\n",
            "\n",
            "        from sklearn.datasets import fetch_openml\n",
            "        housing = fetch_openml(name=\"house_prices\", as_frame=True)\n",
            "\n",
            "    for the Ames housing dataset.\n",
            "    \n",
            "  warnings.warn(msg, category=FutureWarning)\n"
          ]
        }
      ]
    },
    {
      "cell_type": "markdown",
      "source": [
        "Постройте график или таблицу зависимости R^2 или средней квадратической ошибки на обучающем и тестовом наборах данных от значения alpha."
      ],
      "metadata": {
        "id": "ve7QajGDD9Tc"
      }
    },
    {
      "cell_type": "code",
      "source": [
        "import matplotlib.pyplot as plt\n",
        "plt.plot(alpha_values,train,c=\"red\",label = \"train\")\n",
        "plt.plot(alpha_values,test,c=\"blue\",label = \"test\")\n",
        "plt.xscale(\"log\")\n",
        "plt.legend()\n",
        "plt.show()"
      ],
      "metadata": {
        "colab": {
          "base_uri": "https://localhost:8080/",
          "height": 269
        },
        "outputId": "4ee438eb-263a-423d-fbc1-3dfe98ee0b83",
        "id": "dkxsCzRY5lUC"
      },
      "execution_count": null,
      "outputs": [
        {
          "output_type": "display_data",
          "data": {
            "text/plain": [
              "<Figure size 432x288 with 1 Axes>"
            ],
            "image/png": "[encoded data removed]"
          },
          "metadata": {
            "needs_background": "light"
          }
        }
      ]
    },
    {
      "cell_type": "markdown",
      "source": [
        "Сравните (в виде графика или таблицы) значения коэффициентов обученной модели для значений alpha равных 0,1 и 10."
      ],
      "metadata": {
        "id": "ATKxh1STD_9k"
      }
    },
    {
      "cell_type": "code",
      "source": [
        "lasso_01=Lasso(0.1)\n",
        "lasso_01.fit(X_train,y_train)\n",
        "lasso_10=Lasso(10)\n",
        "lasso_10.fit(X_train,y_train)\n",
        "plt.plot(lasso_01.coef_,label = \"alpha = 0.1\")\n",
        "plt.plot(lasso_10.coef_,label = \"alpha = 10\")\n",
        "plt.legend()\n",
        "plt.show()\n",
        "\n",
        "df = pd.DataFrame()\n",
        "df['alpha_0.1']=(lasso_01.coef_)\n",
        "df['alpha_10']=(lasso_10.coef_)\n",
        "print(df)"
      ],
      "metadata": {
        "colab": {
          "base_uri": "https://localhost:8080/",
          "height": 508
        },
        "id": "KxHm-wC27q3i",
        "outputId": "98e3d9cb-772a-4244-bc13-12583720cc33"
      },
      "execution_count": null,
      "outputs": [
        {
          "output_type": "display_data",
          "data": {
            "text/plain": [
              "<Figure size 432x288 with 1 Axes>"
            ],
            "image/png": "[encoded data removed]"
          },
          "metadata": {
            "needs_background": "light"
          }
        },
        {
          "output_type": "stream",
          "name": "stdout",
          "text": [
            "    alpha_0.1  alpha_10\n",
            "0   -0.091559 -0.000000\n",
            "1    0.038665  0.013564\n",
            "2   -0.064131 -0.000000\n",
            "3    1.691652  0.000000\n",
            "4   -0.000000  0.000000\n",
            "5    3.478853  0.000000\n",
            "6   -0.004477  0.000000\n",
            "7   -1.120858 -0.000000\n",
            "8    0.288189  0.000000\n",
            "9   -0.014272 -0.008685\n",
            "10  -0.853747 -0.000000\n",
            "11   0.012329  0.008304\n",
            "12  -0.597909 -0.577794\n"
          ]
        }
      ]
    },
    {
      "cell_type": "markdown",
      "source": [
        "# Гребневая"
      ],
      "metadata": {
        "id": "e7eC6B_396lg"
      }
    },
    {
      "cell_type": "code",
      "source": [
        "from sklearn.model_selection import train_test_split\n",
        "from sklearn.datasets import load_boston\n",
        "from sklearn.linear_model import Ridge\n",
        "import numpy as np\n",
        "import pandas as pd"
      ],
      "metadata": {
        "id": "_IKFDrs_-FCa"
      },
      "execution_count": null,
      "outputs": []
    },
    {
      "cell_type": "markdown",
      "source": [
        "– Обучите модель Ridge, используя значения параметра alpha равные 0,01, 0,1, 1, 10 и 100. "
      ],
      "metadata": {
        "id": "6RET6QKMECeF"
      }
    },
    {
      "cell_type": "code",
      "source": [
        "boston = load_boston()\n",
        "\n",
        "X_train, X_test, y_train, y_test = train_test_split(boston.data,boston.target,random_state=2)\n",
        "\n",
        "test = [] # массив значений точности при параметре n_neighbors\n",
        "train = []\n",
        "\n",
        "\n",
        "\n",
        "alpha_values = [0.01,0.1,1,10,100]\n",
        "for alpha in alpha_values:\n",
        "  rdg = Ridge(alpha = alpha)\n",
        "  rdg.fit(X_train,y_train)\n",
        "  train.append(rdg.score(X_train,y_train))\n",
        "  test.append(rdg.score(X_test,y_test))"
      ],
      "metadata": {
        "colab": {
          "base_uri": "https://localhost:8080/"
        },
        "id": "Jy1bxQ8g-HJq",
        "outputId": "231345e5-cc6c-4957-8966-c8c6cab30521"
      },
      "execution_count": null,
      "outputs": [
        {
          "output_type": "stream",
          "name": "stderr",
          "text": [
            "/usr/local/lib/python3.7/dist-packages/sklearn/utils/deprecation.py:87: FutureWarning: Function load_boston is deprecated; `load_boston` is deprecated in 1.0 and will be removed in 1.2.\n",
            "\n",
            "    The Boston housing prices dataset has an ethical problem. You can refer to\n",
            "    the documentation of this function for further details.\n",
            "\n",
            "    The scikit-learn maintainers therefore strongly discourage the use of this\n",
            "    dataset unless the purpose of the code is to study and educate about\n",
            "    ethical issues in data science and machine learning.\n",
            "\n",
            "    In this special case, you can fetch the dataset from the original\n",
            "    source::\n",
            "\n",
            "        import pandas as pd\n",
            "        import numpy as np\n",
            "\n",
            "\n",
            "        data_url = \"http://lib.stat.cmu.edu/datasets/boston\"\n",
            "        raw_df = pd.read_csv(data_url, sep=\"\\s+\", skiprows=22, header=None)\n",
            "        data = np.hstack([raw_df.values[::2, :], raw_df.values[1::2, :2]])\n",
            "        target = raw_df.values[1::2, 2]\n",
            "\n",
            "    Alternative datasets include the California housing dataset (i.e.\n",
            "    :func:`~sklearn.datasets.fetch_california_housing`) and the Ames housing\n",
            "    dataset. You can load the datasets as follows::\n",
            "\n",
            "        from sklearn.datasets import fetch_california_housing\n",
            "        housing = fetch_california_housing()\n",
            "\n",
            "    for the California housing dataset and::\n",
            "\n",
            "        from sklearn.datasets import fetch_openml\n",
            "        housing = fetch_openml(name=\"house_prices\", as_frame=True)\n",
            "\n",
            "    for the Ames housing dataset.\n",
            "    \n",
            "  warnings.warn(msg, category=FutureWarning)\n"
          ]
        }
      ]
    },
    {
      "cell_type": "markdown",
      "source": [
        "Постройте график или таблицу зависимости R^2 или средней квадратической ошибки на обучающем и тестовом наборах данных от значения alpha."
      ],
      "metadata": {
        "id": "AvNRwwJlEFa1"
      }
    },
    {
      "cell_type": "code",
      "source": [
        "import matplotlib.pyplot as plt\n",
        "plt.plot(alpha_values,train,c=\"red\",label = \"train\")\n",
        "plt.plot(alpha_values,test,c=\"blue\",label = \"test\")\n",
        "plt.xscale(\"log\")\n",
        "plt.legend()\n",
        "plt.show()"
      ],
      "metadata": {
        "colab": {
          "base_uri": "https://localhost:8080/",
          "height": 269
        },
        "id": "jjB8yZ4f-qXk",
        "outputId": "7eff6108-dc23-4331-e055-54739fea0ab5"
      },
      "execution_count": null,
      "outputs": [
        {
          "output_type": "display_data",
          "data": {
            "text/plain": [
              "<Figure size 432x288 with 1 Axes>"
            ],
            "image/png": "[encoded data removed]"
          },
          "metadata": {
            "needs_background": "light"
          }
        }
      ]
    },
    {
      "cell_type": "markdown",
      "source": [
        "Сравните (в виде графика или таблицы) значения коэффициентов обученной модели для значений alpha равных 0,1 и 10."
      ],
      "metadata": {
        "id": "GPRKTDkKEHTe"
      }
    },
    {
      "cell_type": "code",
      "source": [
        "rdg_01=Ridge(0.1)\n",
        "rdg_01.fit(X_train,y_train)\n",
        "rdg_10=Ridge(10)\n",
        "rdg_10.fit(X_train,y_train)\n",
        "plt.plot(rdg_01.coef_,label = \"alpha = 0.1\")\n",
        "plt.plot(rdg_10.coef_,label = \"alpha = 10\")\n",
        "plt.legend()\n",
        "plt.show()\n",
        "\n",
        "df = pd.DataFrame()\n",
        "df['alpha_0.1']=(rdg_01.coef_)\n",
        "df['alpha_10']=(rdg_10.coef_)\n",
        "print(df)"
      ],
      "metadata": {
        "colab": {
          "base_uri": "https://localhost:8080/",
          "height": 508
        },
        "id": "4ujlIu4x-sh2",
        "outputId": "98120068-ff61-4308-b991-535fccdfb257"
      },
      "execution_count": null,
      "outputs": [
        {
          "output_type": "display_data",
          "data": {
            "text/plain": [
              "<Figure size 432x288 with 1 Axes>"
            ],
            "image/png": "[encoded data removed]"
          },
          "metadata": {
            "needs_background": "light"
          }
        },
        {
          "output_type": "stream",
          "name": "stdout",
          "text": [
            "    alpha_0.1  alpha_10\n",
            "0   -0.097874 -0.095009\n",
            "1    0.035071  0.038997\n",
            "2   -0.021752 -0.071047\n",
            "3    3.342670  2.314133\n",
            "4  -14.883087 -1.696444\n",
            "5    3.579753  3.424778\n",
            "6    0.003509 -0.004815\n",
            "7   -1.377619 -1.193587\n",
            "8    0.313258  0.296534\n",
            "9   -0.012168 -0.013986\n",
            "10  -1.032674 -0.886868\n",
            "11   0.011523  0.012186\n",
            "12  -0.554390 -0.594293\n"
          ]
        }
      ]
    },
    {
      "cell_type": "markdown",
      "source": [
        "# Сравнение линейной и гребневой регрессии"
      ],
      "metadata": {
        "id": "puKA8p5J_PX2"
      }
    },
    {
      "cell_type": "markdown",
      "source": [
        "Сравните (в виде графика или таблицы) значения коэффициентов обученных моделей Lasso и Ridge для alpha=10."
      ],
      "metadata": {
        "id": "7Tz6zKGuEKny"
      }
    },
    {
      "cell_type": "code",
      "source": [
        "plt.plot(rdg_10.coef_,label = \"alpha = 10\")\n",
        "plt.plot(lasso_10.coef_, label = \"lasso = 10\")\n",
        "plt.legend()\n",
        "plt.show()\n",
        "\n",
        "df = pd.DataFrame()\n",
        "df['Ridge']=(rdg_10.coef_)\n",
        "df['Lasso']=(lasso_10.coef_)\n",
        "print(df)"
      ],
      "metadata": {
        "colab": {
          "base_uri": "https://localhost:8080/",
          "height": 508
        },
        "id": "M6ze4d9N_Vku",
        "outputId": "72892e3e-0b2a-434e-9130-a77bddaf70b8"
      },
      "execution_count": null,
      "outputs": [
        {
          "output_type": "display_data",
          "data": {
            "text/plain": [
              "<Figure size 432x288 with 1 Axes>"
            ],
            "image/png": "[encoded data removed]"
          },
          "metadata": {
            "needs_background": "light"
          }
        },
        {
          "output_type": "stream",
          "name": "stdout",
          "text": [
            "       Ridge     Lasso\n",
            "0  -0.095009 -0.000000\n",
            "1   0.038997  0.013564\n",
            "2  -0.071047 -0.000000\n",
            "3   2.314133  0.000000\n",
            "4  -1.696444  0.000000\n",
            "5   3.424778  0.000000\n",
            "6  -0.004815  0.000000\n",
            "7  -1.193587 -0.000000\n",
            "8   0.296534  0.000000\n",
            "9  -0.013986 -0.008685\n",
            "10 -0.886868 -0.000000\n",
            "11  0.012186  0.008304\n",
            "12 -0.594293 -0.577794\n"
          ]
        }
      ]
    },
    {
      "cell_type": "markdown",
      "source": [
        "# Решение задачи классификации"
      ],
      "metadata": {
        "id": "vtd-Egbe_3uh"
      }
    },
    {
      "cell_type": "code",
      "source": [
        "from sklearn.model_selection import train_test_split\n",
        "from sklearn.linear_model import LogisticRegression\n",
        "from sklearn.svm import SVC\n",
        "import numpy as np\n",
        "import pandas as pd\n",
        "import matplotlib.pyplot as plt"
      ],
      "metadata": {
        "id": "6R1wRdIV_9Bp"
      },
      "execution_count": null,
      "outputs": []
    },
    {
      "cell_type": "markdown",
      "source": [
        "Сгенерируйте синтетический набор данных:"
      ],
      "metadata": {
        "id": "btUulcFPEVX5"
      }
    },
    {
      "cell_type": "code",
      "source": [
        "np.random.seed(0)\n",
        "X = np.random.rand(50,2)\n",
        "X = np.append(X,np.random.rand(50,2)+np.array((3.0,3.0)),axis=0)\n",
        "X = np.append(X, np.random.rand(50, 2) + np.array((0.0, 2.0)), axis = 0)\n",
        "X = np.append(X, np.random.rand(50, 2) + np.array((3.0, 1.0)), axis = 0)\n",
        "Y = np.append(np.zeros(100), np.ones(100), axis = 0) "
      ],
      "metadata": {
        "id": "V0GEY9TKADAE"
      },
      "execution_count": null,
      "outputs": []
    },
    {
      "cell_type": "markdown",
      "source": [
        "– Постройте точечную диаграмму по полученным данным:"
      ],
      "metadata": {
        "id": "TFTfhiNAEUjB"
      }
    },
    {
      "cell_type": "code",
      "source": [
        "plt.scatter(X[:,0], X[:,1], c=Y)\n",
        "plt.show()"
      ],
      "metadata": {
        "colab": {
          "base_uri": "https://localhost:8080/",
          "height": 265
        },
        "id": "BvdCn9fLAmIL",
        "outputId": "9a280de4-c43a-4ae5-b26b-7bb481d181fc"
      },
      "execution_count": null,
      "outputs": [
        {
          "output_type": "display_data",
          "data": {
            "text/plain": [
              "<Figure size 432x288 with 1 Axes>"
            ],
            "image/png": "[encoded data removed]"
          },
          "metadata": {
            "needs_background": "light"
          }
        }
      ]
    },
    {
      "cell_type": "markdown",
      "source": [
        "– Разбейте сгенерированный набор данных на обучающий и тестовый наборы."
      ],
      "metadata": {
        "id": "jijB18piER3I"
      }
    },
    {
      "cell_type": "code",
      "source": [
        "X_train, X_test, y_train, y_test = train_test_split(X,Y,random_state=0)\n"
      ],
      "metadata": {
        "id": "yHKp11TAAyUA"
      },
      "execution_count": null,
      "outputs": []
    },
    {
      "cell_type": "markdown",
      "source": [
        "Создайте экземпляр модели LogisticRegression и обучите его на обучающем наборе данных. Оцените правильность полученной модели на обучающем и тестовом наборах. "
      ],
      "metadata": {
        "id": "xZ9wSrH0EZ3X"
      }
    },
    {
      "cell_type": "code",
      "source": [
        "lr = LogisticRegression()\n",
        "lr.fit(X_train,y_train)\n",
        "print(\"Train:\",lr.score(X_train, y_train))\n",
        "print(\"Test\",lr.score(X_test, y_test))"
      ],
      "metadata": {
        "colab": {
          "base_uri": "https://localhost:8080/"
        },
        "id": "p3VjdtYcB4U6",
        "outputId": "12591f18-3612-4680-e62e-5d8fe9ae92e6"
      },
      "execution_count": null,
      "outputs": [
        {
          "output_type": "stream",
          "name": "stdout",
          "text": [
            "Train: 0.2733333333333333\n",
            "Test 0.2\n"
          ]
        }
      ]
    },
    {
      "cell_type": "markdown",
      "source": [
        "Создайте экземпляр модели SVC и обучите его на обучающем наборе данных. Оцените правильность полученной модели на обучающем и тестовом наборах и сравните результат с полученным на предыдущем шаге."
      ],
      "metadata": {
        "id": "PiR6av0zEbhh"
      }
    },
    {
      "cell_type": "code",
      "source": [
        "svc = SVC()\n",
        "svc.fit(X_train,y_train)\n",
        "print(\"Train:\",svc.score(X_train, y_train))\n",
        "print(\"Test\",svc.score(X_test, y_test))"
      ],
      "metadata": {
        "colab": {
          "base_uri": "https://localhost:8080/"
        },
        "id": "5BsDhvurBg3z",
        "outputId": "0837ac51-9931-4e7b-b8b4-e3aadf6ef60c"
      },
      "execution_count": null,
      "outputs": [
        {
          "output_type": "stream",
          "name": "stdout",
          "text": [
            "Train: 1.0\n",
            "Test 1.0\n"
          ]
        }
      ]
    },
    {
      "cell_type": "markdown",
      "source": [
        "\n",
        "\n",
        "---\n",
        "\n"
      ],
      "metadata": {
        "id": "JI9OGp11Ex2g"
      }
    },
    {
      "cell_type": "markdown",
      "source": [
        "Загрузите набор данных по раку молочной железы с помощью функции load_breast_cancer из scikit-learn. Разбейте его на обучающий и тестовый наборы. Обучите модель SVC, используя значения параметра gamma равные 0,0001, 0,001, 0,01, 0,1 и 1"
      ],
      "metadata": {
        "id": "IlYAniM0Ef0T"
      }
    },
    {
      "cell_type": "code",
      "source": [
        "from sklearn.datasets import load_breast_cancer"
      ],
      "metadata": {
        "id": "04P2pTQLCDQl"
      },
      "execution_count": null,
      "outputs": []
    },
    {
      "cell_type": "code",
      "source": [
        "data = load_breast_cancer()\n",
        "X_train, X_test, y_train, y_test = train_test_split(data['data'],data['target'],random_state=0)"
      ],
      "metadata": {
        "id": "MByIpOi7_p9f"
      },
      "execution_count": null,
      "outputs": []
    },
    {
      "cell_type": "code",
      "source": [
        "test = [] # массив значений точности при параметре n_neighbors\n",
        "train = []\n",
        "\n",
        "\n",
        "\n",
        "gamma_values = [0.0001,0.001,0.01,0.1,1]\n",
        "for gamma in gamma_values:\n",
        "  svc = SVC(gamma = gamma)\n",
        "  svc.fit(X_train,y_train)\n",
        "  train.append(svc.score(X_train,y_train))\n",
        "  test.append(svc.score(X_test,y_test))"
      ],
      "metadata": {
        "id": "MOLC8OYMCITd"
      },
      "execution_count": null,
      "outputs": []
    },
    {
      "cell_type": "markdown",
      "source": [
        "Постройте график или таблицу зависимости правильности модели на обучающем и тестовом наборах данных от значения gamma."
      ],
      "metadata": {
        "id": "P37oxJOOEh84"
      }
    },
    {
      "cell_type": "code",
      "source": [
        "import matplotlib.pyplot as plt\n",
        "plt.plot(gamma_values,train,c=\"red\",label = \"train\")\n",
        "plt.plot(gamma_values,test,c=\"blue\",label = \"test\")\n",
        "plt.xscale(\"log\")\n",
        "plt.legend()\n",
        "plt.show()"
      ],
      "metadata": {
        "colab": {
          "base_uri": "https://localhost:8080/",
          "height": 269
        },
        "id": "bCavZmR5Cpt-",
        "outputId": "e6a1fe6a-b377-4892-d9eb-8a87869b8ebb"
      },
      "execution_count": null,
      "outputs": [
        {
          "output_type": "display_data",
          "data": {
            "text/plain": [
              "<Figure size 432x288 with 1 Axes>"
            ],
            "image/png": "[encoded data removed]"
          },
          "metadata": {
            "needs_background": "light"
          }
        }
      ]
    },
    {
      "cell_type": "markdown",
      "source": [
        "Обучите модель SVC, используя значения параметра C равные 0,001, 0,01, 0,1, 1 и 10. "
      ],
      "metadata": {
        "id": "gXe1EzyeEkFO"
      }
    },
    {
      "cell_type": "code",
      "source": [
        "test = [] # массив значений точности при параметре n_neighbors\n",
        "train = []\n",
        "\n",
        "\n",
        "\n",
        "c_values = [0.001,0.01,0.1,1,10]\n",
        "for c in c_values:\n",
        "  svc = SVC(C = c)\n",
        "  svc.fit(X_train,y_train)\n",
        "  train.append(svc.score(X_train,y_train))\n",
        "  test.append(svc.score(X_test,y_test))"
      ],
      "metadata": {
        "id": "CAocwb_QDE_P"
      },
      "execution_count": null,
      "outputs": []
    },
    {
      "cell_type": "markdown",
      "source": [
        "Постройте график или таблицу зависимости правильности модели на обучающем и тестовом наборах данных от значения C."
      ],
      "metadata": {
        "id": "wjR-r4IaEmEe"
      }
    },
    {
      "cell_type": "code",
      "source": [
        "import matplotlib.pyplot as plt\n",
        "plt.plot(c_values,train,c=\"red\",label = \"train\")\n",
        "plt.plot(c_values,test,c=\"blue\",label = \"test\")\n",
        "plt.xscale(\"log\")\n",
        "plt.legend()\n",
        "plt.show()"
      ],
      "metadata": {
        "colab": {
          "base_uri": "https://localhost:8080/",
          "height": 271
        },
        "id": "p1tMrV2UDMr-",
        "outputId": "9298ef29-3ffa-4595-ebfb-dc677b89b146"
      },
      "execution_count": null,
      "outputs": [
        {
          "output_type": "display_data",
          "data": {
            "text/plain": [
              "<Figure size 432x288 with 1 Axes>"
            ],
            "image/png": "[encoded data removed]"
          },
          "metadata": {
            "needs_background": "light"
          }
        }
      ]
    }
  ]
}